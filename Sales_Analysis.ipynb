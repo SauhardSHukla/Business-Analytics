{
 "cells": [
  {
   "cell_type": "markdown",
   "metadata": {},
   "source": [
    "### Import the CSV file for the Sales Analysis "
   ]
  },
  {
   "cell_type": "code",
   "execution_count": 1,
   "metadata": {},
   "outputs": [],
   "source": [
    "import pandas as pd\n",
    "df = pd.read_csv('retail_sales_dataset.csv')"
   ]
  },
  {
   "cell_type": "code",
   "execution_count": 14,
   "metadata": {},
   "outputs": [
    {
     "name": "stdout",
     "output_type": "stream",
     "text": [
      "       Transaction ID                           Date         Age     Quantity  \\\n",
      "count     1000.000000                           1000  1000.00000  1000.000000   \n",
      "mean       500.500000  2023-07-03 00:25:55.200000256    41.39200     2.514000   \n",
      "min          1.000000            2023-01-01 00:00:00    18.00000     1.000000   \n",
      "25%        250.750000            2023-04-08 00:00:00    29.00000     1.000000   \n",
      "50%        500.500000            2023-06-29 12:00:00    42.00000     3.000000   \n",
      "75%        750.250000            2023-10-04 00:00:00    53.00000     4.000000   \n",
      "max       1000.000000            2024-01-01 00:00:00    64.00000     4.000000   \n",
      "std        288.819436                            NaN    13.68143     1.132734   \n",
      "\n",
      "       Price per Unit  Total Amount        Month  \n",
      "count     1000.000000   1000.000000  1000.000000  \n",
      "mean       179.890000    456.000000     6.549000  \n",
      "min         25.000000     25.000000     1.000000  \n",
      "25%         30.000000     60.000000     4.000000  \n",
      "50%         50.000000    135.000000     6.000000  \n",
      "75%        300.000000    900.000000    10.000000  \n",
      "max        500.000000   2000.000000    12.000000  \n",
      "std        189.681356    559.997632     3.452755  \n"
     ]
    }
   ],
   "source": [
    "# print(df.head())\n",
    "# print(male_df.info())\n",
    "print(df.describe())"
   ]
  },
  {
   "cell_type": "markdown",
   "metadata": {},
   "source": [
    "### Cleaning of Data"
   ]
  },
  {
   "cell_type": "code",
   "execution_count": 3,
   "metadata": {},
   "outputs": [],
   "source": [
    "df.drop_duplicates(inplace=True) # Remove the Duplicate Values\n",
    "df['Date'] = pd.to_datetime(df['Date']) #Convert the Date to YYYY/MM/DD format\n",
    "df.fillna(0,inplace=True) # Replace a NAN values with '0'"
   ]
  },
  {
   "cell_type": "markdown",
   "metadata": {},
   "source": [
    "#### Aggregation of Data "
   ]
  },
  {
   "cell_type": "code",
   "execution_count": 4,
   "metadata": {},
   "outputs": [
    {
     "name": "stdout",
     "output_type": "stream",
     "text": [
      "Month\n",
      "1     36980\n",
      "2     44060\n",
      "3     28990\n",
      "4     33870\n",
      "5     53150\n",
      "6     36715\n",
      "7     35465\n",
      "8     36960\n",
      "9     23620\n",
      "10    46580\n",
      "11    34920\n",
      "12    44690\n",
      "Name: Total Amount, dtype: int64\n"
     ]
    }
   ],
   "source": [
    "#Aggreate the Data with the help of Month or Quaterly\n",
    "\n",
    "df['Month'] =df['Date'].dt.month #Extract the Month\n",
    "month_sales = df.groupby('Month')['Total Amount'].sum() #Aggreate by sum\n",
    "print(month_sales)"
   ]
  },
  {
   "cell_type": "code",
   "execution_count": 5,
   "metadata": {},
   "outputs": [
    {
     "name": "stdout",
     "output_type": "stream",
     "text": [
      "['Beauty' 'Clothing' 'Electronics']\n"
     ]
    }
   ],
   "source": [
    "unique_category = df['Product Category'].unique()\n",
    "print(unique_category)"
   ]
  },
  {
   "cell_type": "code",
   "execution_count": 6,
   "metadata": {},
   "outputs": [
    {
     "name": "stdout",
     "output_type": "stream",
     "text": [
      "3\n"
     ]
    }
   ],
   "source": [
    "total_unique_category = df['Product Category'].nunique()\n",
    "print(total_unique_category)"
   ]
  },
  {
   "cell_type": "code",
   "execution_count": 7,
   "metadata": {},
   "outputs": [
    {
     "name": "stdout",
     "output_type": "stream",
     "text": [
      "Product Category\n",
      "Clothing       351\n",
      "Electronics    342\n",
      "Beauty         307\n",
      "Name: count, dtype: int64\n"
     ]
    }
   ],
   "source": [
    "per_category_count = df['Product Category'].value_counts()\n",
    "print(per_category_count)"
   ]
  },
  {
   "cell_type": "code",
   "execution_count": 8,
   "metadata": {},
   "outputs": [
    {
     "name": "stdout",
     "output_type": "stream",
     "text": [
      "Product Category\n",
      "Beauty         143515\n",
      "Clothing       155580\n",
      "Electronics    156905\n",
      "Name: Total Amount, dtype: int64\n"
     ]
    }
   ],
   "source": [
    "category_TA = df.groupby('Product Category')['Total Amount'].sum().sort_values(ascending=True)\n",
    "print(category_TA)"
   ]
  },
  {
   "cell_type": "code",
   "execution_count": 9,
   "metadata": {},
   "outputs": [
    {
     "name": "stdout",
     "output_type": "stream",
     "text": [
      "2\n"
     ]
    }
   ],
   "source": [
    "no_of_genders=df['Gender'].nunique()\n",
    "print(no_of_genders)"
   ]
  },
  {
   "cell_type": "code",
   "execution_count": 10,
   "metadata": {},
   "outputs": [
    {
     "name": "stdout",
     "output_type": "stream",
     "text": [
      "Gender\n",
      "Male    490\n",
      "Name: count, dtype: int64\n",
      "Young Age People: 88\n",
      "Middle Age People: 247\n",
      "Old Age People: 155\n"
     ]
    }
   ],
   "source": [
    "#Filter out the male Genders form the DataFrame\n",
    "male_df = df.copy()\n",
    "male_df =male_df[male_df['Gender']=='Male']\n",
    "male_counts= male_df['Gender'].value_counts()\n",
    "print(male_counts)\n",
    "\n",
    "#Filter out the male Genders with the various Age Categorys\n",
    "young_age_people_male= male_df[(male_df['Age']>= 0) &(male_df['Age']<=25)]\n",
    "middle_age_people_male = male_df[(male_df['Age']> 25) &(male_df['Age']<=50)]\n",
    "old_age_people_male= male_df[(male_df['Age']> 50) &(male_df['Age']<=100)]\n",
    "\n",
    "\n",
    "# Display the counts in each age category\n",
    "print(\"Young Age People:\", len(young_age_people_male))\n",
    "print(\"Middle Age People:\", len(middle_age_people_male))\n",
    "print(\"Old Age People:\", len(old_age_people_male))"
   ]
  },
  {
   "cell_type": "code",
   "execution_count": 13,
   "metadata": {},
   "outputs": [
    {
     "name": "stdout",
     "output_type": "stream",
     "text": [
      "Gender\n",
      "Female    510\n",
      "Name: count, dtype: int64\n",
      "Stored 'young_age_people_female' (DataFrame)\n",
      "Young Age People: 81\n",
      "Middle Age People: 271\n",
      "Old Age People: 158\n"
     ]
    }
   ],
   "source": [
    "female_df=df.copy()\n",
    "female_df = female_df[female_df['Gender']=='Female']\n",
    "male_counts= female_df['Gender'].value_counts()\n",
    "\n",
    "#Filter out the male Genders with the various Age Categorys\n",
    "young_age_people_female= female_df[(female_df['Age']>= 0) &(female_df['Age']<=25)]\n",
    "\n",
    "#Using Functions to Call them in other Jypter Notebook\n",
    "def young_age_people_female_fun():\n",
    "  return young_age_people_female\n",
    "\n",
    "middle_age_people_female = female_df[(female_df['Age']> 25) &(female_df['Age']<=50)]\n",
    "\n",
    "#Using Functions to Call them in other Jypter Notebook\n",
    "def middle_age_people_female_fun():\n",
    "  return middle_age_people_female\n",
    "\n",
    "old_age_people_female = female_df[(female_df['Age']> 50) &(female_df['Age']<=100)]\n",
    "\n",
    "#Using Functions to Call them in other Jypter Notebook\n",
    "def old_age_people_female_fun():\n",
    "  return old_age_people_female\n",
    "\n",
    "# Display the counts in each age category\n",
    "print(\"Young Age People:\", len(young_age_people_female))\n",
    "print(\"Middle Age People:\", len(middle_age_people_female))\n",
    "print(\"Old Age People:\", len(old_age_people_female))"
   ]
  },
  {
   "cell_type": "code",
   "execution_count": null,
   "metadata": {},
   "outputs": [],
   "source": []
  }
 ],
 "metadata": {
  "kernelspec": {
   "display_name": "Python 3",
   "language": "python",
   "name": "python3"
  },
  "language_info": {
   "codemirror_mode": {
    "name": "ipython",
    "version": 3
   },
   "file_extension": ".py",
   "mimetype": "text/x-python",
   "name": "python",
   "nbconvert_exporter": "python",
   "pygments_lexer": "ipython3",
   "version": "3.12.3"
  }
 },
 "nbformat": 4,
 "nbformat_minor": 2
}
